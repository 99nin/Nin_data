{
 "cells": [
  {
   "cell_type": "code",
   "execution_count": 26,
   "id": "172e240e",
   "metadata": {},
   "outputs": [],
   "source": [
    "import numpy as np\n",
    "import matplotlib.pyplot as plt\n",
    "import pandas as pd"
   ]
  },
  {
   "cell_type": "code",
   "execution_count": 31,
   "id": "8810911f",
   "metadata": {},
   "outputs": [],
   "source": [
    "my_dict={'Correct_ans':[17,13,12,15,16,14,16,16,18,19],'Aptitude':[94,73,69,80,93,85,66,79,77,91]}"
   ]
  },
  {
   "cell_type": "code",
   "execution_count": 32,
   "id": "fb3996bb",
   "metadata": {},
   "outputs": [],
   "source": [
    "df=pd.DataFrame(my_dict)"
   ]
  },
  {
   "cell_type": "code",
   "execution_count": 33,
   "id": "9e44764b",
   "metadata": {},
   "outputs": [
    {
     "data": {
      "text/html": [
       "<div>\n",
       "<style scoped>\n",
       "    .dataframe tbody tr th:only-of-type {\n",
       "        vertical-align: middle;\n",
       "    }\n",
       "\n",
       "    .dataframe tbody tr th {\n",
       "        vertical-align: top;\n",
       "    }\n",
       "\n",
       "    .dataframe thead th {\n",
       "        text-align: right;\n",
       "    }\n",
       "</style>\n",
       "<table border=\"1\" class=\"dataframe\">\n",
       "  <thead>\n",
       "    <tr style=\"text-align: right;\">\n",
       "      <th></th>\n",
       "      <th>Correct_ans</th>\n",
       "      <th>Aptitude</th>\n",
       "    </tr>\n",
       "  </thead>\n",
       "  <tbody>\n",
       "    <tr>\n",
       "      <th>0</th>\n",
       "      <td>17</td>\n",
       "      <td>94</td>\n",
       "    </tr>\n",
       "    <tr>\n",
       "      <th>1</th>\n",
       "      <td>13</td>\n",
       "      <td>73</td>\n",
       "    </tr>\n",
       "    <tr>\n",
       "      <th>2</th>\n",
       "      <td>12</td>\n",
       "      <td>69</td>\n",
       "    </tr>\n",
       "    <tr>\n",
       "      <th>3</th>\n",
       "      <td>15</td>\n",
       "      <td>80</td>\n",
       "    </tr>\n",
       "    <tr>\n",
       "      <th>4</th>\n",
       "      <td>16</td>\n",
       "      <td>93</td>\n",
       "    </tr>\n",
       "    <tr>\n",
       "      <th>5</th>\n",
       "      <td>14</td>\n",
       "      <td>85</td>\n",
       "    </tr>\n",
       "    <tr>\n",
       "      <th>6</th>\n",
       "      <td>16</td>\n",
       "      <td>66</td>\n",
       "    </tr>\n",
       "    <tr>\n",
       "      <th>7</th>\n",
       "      <td>16</td>\n",
       "      <td>79</td>\n",
       "    </tr>\n",
       "    <tr>\n",
       "      <th>8</th>\n",
       "      <td>18</td>\n",
       "      <td>77</td>\n",
       "    </tr>\n",
       "    <tr>\n",
       "      <th>9</th>\n",
       "      <td>19</td>\n",
       "      <td>91</td>\n",
       "    </tr>\n",
       "  </tbody>\n",
       "</table>\n",
       "</div>"
      ],
      "text/plain": [
       "   Correct_ans  Aptitude\n",
       "0           17        94\n",
       "1           13        73\n",
       "2           12        69\n",
       "3           15        80\n",
       "4           16        93\n",
       "5           14        85\n",
       "6           16        66\n",
       "7           16        79\n",
       "8           18        77\n",
       "9           19        91"
      ]
     },
     "execution_count": 33,
     "metadata": {},
     "output_type": "execute_result"
    }
   ],
   "source": [
    "df"
   ]
  },
  {
   "cell_type": "code",
   "execution_count": 90,
   "id": "2127ceb5",
   "metadata": {},
   "outputs": [],
   "source": [
    "x=df['Correct_ans']\n",
    "y=df['Aptitude']"
   ]
  },
  {
   "cell_type": "code",
   "execution_count": 94,
   "id": "92825532",
   "metadata": {},
   "outputs": [],
   "source": [
    "def correlation_coef(x,y):\n",
    "    x1=np.mean(x)\n",
    "    y1=np.mean(y)\n",
    "    c3=[(x[i]-x1)*(y[i]-y1) for i in range(x.shape[0])]\n",
    "    r_num=np.sum(c3)\n",
    "    x3=np.sum(np.square([(x[i]-x1) for i in range(x.shape[0])]))\n",
    "    y3=np.sum(np.square([(y[i]-y1) for i in range(x.shape[0])]))\n",
    "    r_den=(x3*y3)**0.5\n",
    "    r=r_num/r_den\n",
    "    return r"
   ]
  },
  {
   "cell_type": "code",
   "execution_count": 98,
   "id": "8d0f4890",
   "metadata": {},
   "outputs": [],
   "source": [
    "r=correlation_coef(x,y)\n",
    "std_x=np.std(x)\n",
    "std_y=np.std(y)"
   ]
  },
  {
   "cell_type": "code",
   "execution_count": 99,
   "id": "8823f26d",
   "metadata": {},
   "outputs": [
    {
     "data": {
      "text/plain": [
       "2.0591260281974"
      ]
     },
     "execution_count": 99,
     "metadata": {},
     "output_type": "execute_result"
    }
   ],
   "source": [
    "std_x"
   ]
  },
  {
   "cell_type": "code",
   "execution_count": 100,
   "id": "d87aac64",
   "metadata": {},
   "outputs": [
    {
     "data": {
      "text/plain": [
       "9.392017887546851"
      ]
     },
     "execution_count": 100,
     "metadata": {},
     "output_type": "execute_result"
    }
   ],
   "source": [
    "std_y"
   ]
  },
  {
   "cell_type": "code",
   "execution_count": 102,
   "id": "473e4efe",
   "metadata": {},
   "outputs": [
    {
     "data": {
      "text/plain": [
       "2.3301886792452833"
      ]
     },
     "execution_count": 102,
     "metadata": {},
     "output_type": "execute_result"
    }
   ],
   "source": [
    "b=r*(std_y/std_x)\n",
    "b"
   ]
  },
  {
   "cell_type": "code",
   "execution_count": 108,
   "id": "b8ee35b9",
   "metadata": {},
   "outputs": [],
   "source": [
    "a=np.mean(y)-b*np.mean(x)"
   ]
  },
  {
   "cell_type": "code",
   "execution_count": 109,
   "id": "aa231953",
   "metadata": {},
   "outputs": [],
   "source": [
    "def calc_reg_coeff(x,y):\n",
    "    r=correlation_coef(x,y)\n",
    "    std_x=np.std(x)\n",
    "    std_y=np.std(y)\n",
    "    b=r*(std_y/std_x)\n",
    "    a=np.mean(y)-b*np.mean(x)\n",
    "    return a,b"
   ]
  },
  {
   "cell_type": "code",
   "execution_count": 110,
   "id": "b03565e5",
   "metadata": {},
   "outputs": [],
   "source": [
    "a,b=calc_reg_coeff(x,y)"
   ]
  },
  {
   "cell_type": "code",
   "execution_count": 111,
   "id": "eced291f",
   "metadata": {},
   "outputs": [
    {
     "data": {
      "text/plain": [
       "44.34905660377358"
      ]
     },
     "execution_count": 111,
     "metadata": {},
     "output_type": "execute_result"
    }
   ],
   "source": [
    "a"
   ]
  },
  {
   "cell_type": "code",
   "execution_count": 112,
   "id": "f7ede348",
   "metadata": {},
   "outputs": [
    {
     "data": {
      "text/plain": [
       "2.3301886792452833"
      ]
     },
     "execution_count": 112,
     "metadata": {},
     "output_type": "execute_result"
    }
   ],
   "source": [
    "b"
   ]
  }
 ],
 "metadata": {
  "kernelspec": {
   "display_name": "Python 3",
   "language": "python",
   "name": "python3"
  },
  "language_info": {
   "codemirror_mode": {
    "name": "ipython",
    "version": 3
   },
   "file_extension": ".py",
   "mimetype": "text/x-python",
   "name": "python",
   "nbconvert_exporter": "python",
   "pygments_lexer": "ipython3",
   "version": "3.8.8"
  }
 },
 "nbformat": 4,
 "nbformat_minor": 5
}
